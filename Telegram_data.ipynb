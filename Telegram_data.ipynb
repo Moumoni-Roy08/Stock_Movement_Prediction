{
  "nbformat": 4,
  "nbformat_minor": 0,
  "metadata": {
    "colab": {
      "provenance": []
    },
    "kernelspec": {
      "name": "python3",
      "display_name": "Python 3"
    },
    "language_info": {
      "name": "python"
    }
  },
  "cells": [
    {
      "cell_type": "code",
      "execution_count": 1,
      "metadata": {
        "colab": {
          "base_uri": "https://localhost:8080/"
        },
        "id": "4M0iC2HHqvlx",
        "outputId": "fc670790-65cd-4102-b36a-8efae3e13a44"
      },
      "outputs": [
        {
          "output_type": "stream",
          "name": "stdout",
          "text": [
            "Collecting telethon\n",
            "  Downloading Telethon-1.38.1-py3-none-any.whl.metadata (3.6 kB)\n",
            "Collecting pyaes (from telethon)\n",
            "  Downloading pyaes-1.6.1.tar.gz (28 kB)\n",
            "  Preparing metadata (setup.py) ... \u001b[?25l\u001b[?25hdone\n",
            "Requirement already satisfied: rsa in /usr/local/lib/python3.10/dist-packages (from telethon) (4.9)\n",
            "Requirement already satisfied: pyasn1>=0.1.3 in /usr/local/lib/python3.10/dist-packages (from rsa->telethon) (0.6.1)\n",
            "Downloading Telethon-1.38.1-py3-none-any.whl (702 kB)\n",
            "\u001b[2K   \u001b[90m━━━━━━━━━━━━━━━━━━━━━━━━━━━━━━━━━━━━━━━━\u001b[0m \u001b[32m702.2/702.2 kB\u001b[0m \u001b[31m10.7 MB/s\u001b[0m eta \u001b[36m0:00:00\u001b[0m\n",
            "\u001b[?25hBuilding wheels for collected packages: pyaes\n",
            "  Building wheel for pyaes (setup.py) ... \u001b[?25l\u001b[?25hdone\n",
            "  Created wheel for pyaes: filename=pyaes-1.6.1-py3-none-any.whl size=26346 sha256=114b6a776d8da51b813f4763c7911830211e4ed102ab6239757e31705a1bdfc1\n",
            "  Stored in directory: /root/.cache/pip/wheels/d6/84/5f/ea6aef85a93c7e1922486369874f4740a5642d261e09c59140\n",
            "Successfully built pyaes\n",
            "Installing collected packages: pyaes, telethon\n",
            "Successfully installed pyaes-1.6.1 telethon-1.38.1\n"
          ]
        }
      ],
      "source": [
        "!pip install telethon\n"
      ]
    },
    {
      "cell_type": "code",
      "source": [
        "from telethon import TelegramClient, sync\n",
        "import pandas as pd\n"
      ],
      "metadata": {
        "id": "I30icPvyuNx5"
      },
      "execution_count": 3,
      "outputs": []
    },
    {
      "cell_type": "code",
      "source": [
        "api_id = '21237365'  # Replace with your API ID\n",
        "api_hash = '92686857a114d7bf8be29a2ff99b7b92'  # Replace with your API Hash\n",
        "\n",
        "# Create and start the client\n",
        "client = TelegramClient('session_name', api_id, api_hash)\n",
        "await client.start()\n"
      ],
      "metadata": {
        "colab": {
          "base_uri": "https://localhost:8080/"
        },
        "id": "kKEQop2iuRkU",
        "outputId": "6b3da945-bbc4-4a83-ea31-bb19920c2bc9"
      },
      "execution_count": 4,
      "outputs": [
        {
          "output_type": "stream",
          "name": "stdout",
          "text": [
            "Please enter your phone (or bot token): +918798066530\n",
            "Please enter the code you received: 57939\n",
            "Signed in successfully as MoMataKiAshirwaad; remember to not break the ToS or you will risk an account ban!\n"
          ]
        },
        {
          "output_type": "execute_result",
          "data": {
            "text/plain": [
              "<telethon.client.telegramclient.TelegramClient at 0x7bf059673ac0>"
            ]
          },
          "metadata": {},
          "execution_count": 4
        }
      ]
    },
    {
      "cell_type": "code",
      "source": [
        "#to put rate limit\n",
        "from telethon.errors import FloodWaitError\n",
        "import asyncio\n",
        "import nest_asyncio\n",
        "from telethon import TelegramClient, errors"
      ],
      "metadata": {
        "id": "BRa48BDlu-l9"
      },
      "execution_count": 5,
      "outputs": []
    },
    {
      "cell_type": "code",
      "source": [
        "\n",
        "# Apply nest_asyncio to allow nested event loops in environments like Jupyter/Colab\n",
        "nest_asyncio.apply()\n",
        "\n",
        "async def scrape_channel(channel_username, limit=100):\n",
        "    messages = []\n",
        "    try:\n",
        "        async for message in client.iter_messages(channel_username, limit=limit):\n",
        "            if message.text:  # Ensure message text is not None\n",
        "                messages.append(message.text)\n",
        "    except errors.FloodWaitError as e:\n",
        "        print(f\"Rate limit hit, waiting for {e.seconds} seconds...\")\n",
        "        await asyncio.sleep(e.seconds)  # Pause for the required duration\n",
        "        return await scrape_channel(channel_username, limit)  # Retry after waiting\n",
        "    return messages\n",
        "\n",
        "# Connect to the client and scrape the channel\n",
        "async def main(channel_username):\n",
        "    await client.start()\n",
        "    data = await scrape_channel(channel_username, limit=100)\n",
        "    await client.disconnect()\n",
        "    return data\n",
        "\n",
        "# Run the main function\n",
        "channel_username = 'LIQUIDEOFFICIAL'  # Replace with the channel's username\n",
        "data = asyncio.run(main(channel_username))\n",
        "\n",
        "# Print or process the data as needed\n",
        "print(data)\n"
      ],
      "metadata": {
        "colab": {
          "base_uri": "https://localhost:8080/"
        },
        "id": "wiAvA1EuvftX",
        "outputId": "679eae31-bb58-43e3-ee02-2d7b8193ebaf"
      },
      "execution_count": 7,
      "outputs": [
        {
          "output_type": "stream",
          "name": "stdout",
          "text": [
            "['**NIFTY50 LEVELS FOR INTRADAY\\n\\nNifty is trading around 24120.\\n\\nRESISTANCE: Important resistance levels for nifty are 24180 and 24250.\\n\\nSUPPORT: Important support levels for nifty are 24075 and 24025**', 'Good Morning Telegram Family!\\n\\n**Market Cues for Today**\\n\\n📌 **Nifty**: The index has formed a bullish Harami candlestick pattern on the daily chart.\\n\\n- Support: 24,070\\n- Resistance: 24,200 \\n\\n📌 **Bank Nifty**: The index has formed a small-bodied bullish candlestick pattern, with a minor upper shadow and a long lower shadow on the daily chart.\\n\\n- Support: 51,800\\n- Resistance: 52,250 \\n \\n📌 **Long Build-Up in Stocks**:\\n\\n- Indraprastha Gas\\n- \\u2060Divi’s Laboratories \\n- \\u2060Mahanagar Gas\\n- \\u2060GNFC\\n- \\u2060Petronet LNG\\n\\n📌 **Short Build-Up in Stocks**: \\n\\n- Apollo Hospitals\\n- \\u2060Chola Finance\\n- \\u2060Godrej Properties\\n- \\u2060RBL Bank\\n- \\u2060Hero Motocorp\\n\\n📌 **Stocks under F&O Ban**: Nil', \"📊 **Wild Swings on D-Street!**\\n\\nMarkets had another volatile week, with sharp drops and recoveries, ultimately closing 0.94% higher than last Friday's levels.\\n\\nIs more volatility ahead? Get this week's forecast & explore potential investment opportunities!\\n\\n👉 https://blog.liquide.life/nifty-market-weekly-recap-november-2024/\", 'Post Market Summary for 29th November, Friday 📉📈💸🚀🔥 \\n\\nCheck out the market summary below 👇\\n\\nhttps://blog.liquide.life/post-market-summary-29th-november-2024/', '**SENSEX LEVELS FOR INTRADAY\\n\\nSensex is trading around 79670.\\n\\nRESISTANCE: Important resistance levels for sensex are 79900 and 80150.\\n\\nSUPPORT: Important support levels for sensex are 79400 and 79200.**', '**NIFTY50 LEVELS FOR INTRADAY\\n\\nNifty is trading around 24000.\\n\\nRESISTANCE: Important resistance levels for nifty are 24065 and 24130.\\n\\nSUPPORT: Important support levels for nifty are 23885 and 23800.**', 'Good Morning Telegram Family!\\n\\n**Market Cues for Today**\\n\\n📌 **Nifty**: The index has formed a bearish candlestick pattern on the daily chart.\\n\\n- Support: 23,850\\n- Resistance: 24,000\\n\\n📌 **Bank Nifty**: The index has formed a bearish candlestick pattern on the daily chart.\\n\\n- Support: 51,750\\n- Resistance: 52,250 \\n \\n📌 **Long Build-Up in Stocks:**\\n\\n- Granules India\\n- \\u2060ICICI Prudential\\n- \\u2060GMR Airports\\n\\n📌 **Short Build-Up in Stocks:** \\n\\n- HDFC Life\\n- \\u2060Dr Reddy’s Lab\\n- \\u2060Tata Consumer\\n- \\u2060SBI Life\\n- \\u2060Godrej Properties \\n\\n📌 **Stocks under F&O Ban**: Nil', 'Post Market Summary for 28th November, Thursday 📉📈💸🚀🔥 \\n\\nCheck out the market summary below 👇\\n\\nhttps://blog.liquide.life/post-market-summary-28th-november-2024/', '**BANK NIFTY LEVELS FOR INTRADAY\\n\\nBanknifty is trading around 52180.\\n\\nRESISTANCE: Important resistance levels for banknifty are 52300 and 52500.\\n\\nSUPPORT: Important support levels for banknifty are 52000 and 51770.\\n\\nBanknifty continued to hold 52000 level which will act as a immediate major support zone.**', '**NIFTY50 LEVELS FOR INTRADAY\\n\\nNifty is trading around 24060.\\n\\nRESISTANCE: Important resistance levels for nifty are 24120 and 24160.\\n\\nSUPPORT: Important support levels for nifty are 24000 and 23960.\\n\\nNifty has gap fill zone around 23960 which will act as a crucial zone after 24000 support.**', 'Good Morning Telegram Family!\\n\\n**Market Cues for Today**\\n\\n📌 **Nifty**: The index has formed a bullish candlestick pattern on the daily chart.\\n\\n- Support: 24,160\\n- Resistance: 24,360\\n\\n📌 **Bank Nifty**: The index has formed a bullish candlestick pattern on the daily chart.\\n\\n- Support: 52,000\\n- Resistance: 52,600\\n \\n📌 **Long Build-Up in Stocks**:\\n\\n- Coforge\\n- \\u2060MCX\\n- \\u2060Exide Industries\\n- \\u2060Birlasoft\\n- \\u2060Adani Ports\\n\\n📌 **Short Build-Up in Stocks**: \\n\\n- IPCA Laboratories \\n- \\u2060Granules India \\n- \\u2060Infosys\\n- \\u2060Indraprastha Gas\\n- \\u2060Lupin\\n\\n📌 **Stocks under F&O Ban**: Nil', 'Post Market Summary for 27th November, Wednesday 📉📈💸🚀🔥 \\n\\nCheck out the market summary below 👇\\n\\nhttps://blog.liquide.life/post-market-summary-27th-november-2024/', \"**Can Delhi's 500+ AQI impact the stock market?** 😶\\u200d🌫️📉\\n\\nStudies from China and Manhattan show high pollution levels lead to market drops, reduced trading activity. \\n\\nBut, why? 🤔 Could this also happen in India ❓\\n\\nWatch this Video to understand the impact on the market and whether it is a cause\\xa0of\\xa0concern.\\n\\n▶️ https://youtu.be/soYqafAmeDE\", '**NIFTY50 LEVELS FOR INTRADAY\\n\\nNifty is trading around 24320.\\n\\nRESISTANCE: Important resistance levels for nifty are 24350 and 24400.\\n\\nSUPPORT: Important support levels for nifty are 24270 and 24230.**', '**BANK NIFTY LEVELS FOR INTRADAY\\n\\nBanknifty is trading around 52400.\\n\\nRESISTANCE: Important resistance levels for banknifty are 52550 and 52800.\\n\\nSUPPORT: Important support levels for banknifty are 52250 and 52000.**', 'Good Morning Telegram Family!\\n\\n**Market Cues for Today**\\n\\n📌 **Nifty**: The index has formed a bearish candle with a small shadow, resembling the “Bearish Belt Hold” pattern on the daily chart.\\n\\n- Support: 24,130\\n- Resistance: 24,250\\n\\n📌 **Bank Nifty**: The index has formed a bearish candlestick pattern on the daily chart.\\n\\n- Support: 52,000\\n- Resistance: 52,400\\n \\n📌 **Long Build-Up in Stocks**:\\n\\n- Berger Paints\\n- \\u2060Marico\\n- \\u2060City Union Bank\\n- \\u2060Hindustan Petroleum \\n- \\u2060Biocon \\n\\n📌 **Short Build-Up in Stocks**: \\n\\n- L&T Finance\\n- \\u2060Bosch\\n- \\u2060Coforge\\n- \\u2060Hindustan Copper\\n- \\u2060Bajaj Finserv\\n\\n📌 **Stocks under F&O Ban**: Nil \\n\\n📌 **Stocks removed from F&O Ban**:\\n\\n- Aarti Industries\\n- \\u2060GNFC\\n- \\u2060Granules India', 'Post Market Summary for 26th November, Tuesday 📉📈💸🚀🔥 \\n\\nCheck out the market summary below 👇\\n\\nhttps://blog.liquide.life/post-market-summary-26th-november-2024/', '**BANKNIFTY LEVELS FOR INTRADAY\\n\\nBanknifty is trading around 52130.\\n\\nRESISTANCE: Important resistance levels for banknifty are 52300 and 52550.\\n\\nSUPPORT: Important support levels for banknifty are 51950 and 51750.**', '**NIFTY50 LEVELS FOR INTRADAY\\n\\nNifty is trading around 24230.\\n\\nRESISTANCE: Important resistance levels for nifty are 24265 and 24300.\\n\\nSUPPORT: Important support levels for nifty are 24135 and 24080.**', 'Good Morning Telegram Family!\\n\\n**Market Cues for Today**\\n\\n📌 **Nifty**: The index  has formed a small bearish candle with upper and lower shadows, resembling a “High Wave” kind of pattern on the daily chart. \\n\\n- Support: 24,180\\n- Resistance: 24,350\\n\\n📌 **Bank Nifty**: The index has formed a bullish candlestick pattern with a lower shadow on the daily chart.\\n\\n- Support: 51,900\\n- Resistance: 52,400  \\n \\n📌 **Long Build-Up in Stocks:**\\n\\n- Mahanagar Gas\\n- \\u2060Indiamart\\n- \\u2060Marico \\n- \\u2060Gujarat Gas\\n- \\u2060HDFC Bank\\n\\n📌 **Short Build-Up in Stocks: **\\n\\n- Oberoi Realty\\n- \\u2060Alkem Laboratories \\n- \\u2060JSW Steel\\n- \\u2060Jubilant Foodworks\\n- \\u2060Bajaj Auto\\n\\n📌 **Stocks under F&O Ban:**\\n\\n- Aarti Industries\\n- \\u2060GNFC\\n- \\u2060Granules India\\n\\n📌 **Stocks removed from F&O Ban:**\\n\\n- Adani Enterprises\\n- \\u2060Hindustan Copper\\u2060\\n- \\u2060Indraprastha Gas\\n- \\u2060National Aluminum', 'Post Market Summary for 25th November, Monday 📉📈💸🚀🔥 \\n\\nCheck out the market summary below 👇\\n\\nhttps://blog.liquide.life/post-market-summary-25th-november-2024-2/', '**MIDCPNIFTY LEVELS FOR INTRADAY\\n\\nMidcpnifty is trading around 12550.\\n\\nRESISTANCE: Important resistance levels for midcpnifty are 12600 and 12650.\\n\\nSUPPORT: Important support levels for midcpnifty are 12500 and 12450.**', '**BANK NIFTY LEVELS FOR INTRADAY\\n\\nBanknifty is trading around 52130.\\n\\nRESISTANCE: Important resistance levels for banknifty are 52300 and 52450.\\n\\nSUPPORT: Important support levels for banknifty are 51900 and 51600.**', '**NIFTY50 LEVELS FOR INTRADAY\\n\\nNIFTY is trading around 24270.\\n\\nRESISTANCE: Important resistance levels for nifty are 24340 and 24400.\\n\\nSUPPORT: Important support levels for nifty are 24210 and 24160.**', 'Good Morning Telegram Family!\\n\\n**Market Cues for Today**\\n\\n📌 **Nifty:** The index has formed a bullish candlestick pattern on the daily chart.\\n\\n- Support: 23,780\\n- Resistance: 23,960 \\n\\n📌 **Bank Nifty: **The index has formed a bullish candlestick pattern on the daily chart.\\n\\n- Support: 50,900\\n- Resistance: 51,350 \\n \\n📌 **Long Build-Up in Stocks:**\\n\\n- Oberoi Realty\\n- \\u2060Mahanagar Gas\\n- \\u2060Piramal Enterprises\\n- \\u2060Laurus Labs\\n- \\u2060Jubilant Foodworks\\n\\n📌 **Short Build-Up in Stocks: **\\n\\n- Federal Bank\\n- \\u2060Alkem Labs\\n- \\u2060Vodafone Idea\\n- \\u2060PI Industries\\n\\n📌 **Stocks under F&O Ban:**\\n\\n- Aarti Industries\\n- \\u2060Adani Enterprises\\n- \\u2060GNFC\\n- \\u2060Granules India\\n- Hindustan Copper\\u2060\\n- \\u2060Indraprastha Gas\\n- \\u2060National Aluminum\\n\\n📌 **Stocks removed from F&O Ban:**\\n\\n- AB Fashion', \"📊 **Turning Point for Markets?**\\n\\nWill BJP-led Mahayuti's win in Maharashtra set a bullish tone? \\n\\nSee what’s ahead for Nifty this week!\\n\\nhttps://blog.liquide.life/weekly-stock-market-recap-key-insights-november/\", 'Post Market Summary for 22nd November, Friday 📉📈💸🚀🔥 \\n\\nCheck out the market summary below 👇\\n\\nhttps://blog.liquide.life/post-market-summary-22nd-november-2024/', '**BANKNIFTY LEVELS FOR INTRADAY\\n\\nBanknifty is trading around 51000.\\n\\nRESISTANCE: Important resistance levels for banknifty are 51300 and 51500.\\n\\nSUPPORT: Important support levels for banknifty are 50800 and 50600.**', '**SENSEX LEVELS FOR INTRADAY\\n\\nSENSEX IS TRADING AROUND 77700.\\n\\n\\nRESISTANCE: Important resistance for sensex are 77900 and 78200.\\n\\nSUPPORT: Important support levels for sensex are 77450 and 77200.**', '**NIFTY50 LEVELS FOR INTRADAY\\n\\nNifty is trading around 23585.\\n\\nRESISTANCE: Important resistance levels for nifty are 23650 and 23720.\\n\\nSUPPORT: Important support levels for nifty are 23540 and 23480.**', 'Good Morning Telegram Family!\\n\\n**Market Cues for Today**\\n\\n📌 **Nifty**: The index has formed a bearish candlestick pattern on the daily chart. \\n\\n- Support: 23,260\\n- Resistance: 23,400\\n\\n📌 **Bank Nifty**: The index has formed a bearish candlestick pattern with a long lower shadow, resembling a ‘Hammer’ on the daily chart.\\n\\n- Support: 50,240\\n- Resistance: 50,650 \\n \\n📌 **Long Build-Up in Stocks**:\\n\\n- Dalmia Bharat\\n- \\u2060Mahanagar Gas\\n- \\u2060JK Cement\\n- \\u2060Federal Bank\\n- \\u2060National Aluminum\\n\\n📌 **Short Build-Up in Stocks**: \\n\\n- Adani Enterprises \\n- \\u2060Adani Ports\\n- \\u2060Navin Fluorine\\n- \\u2060M&M Financial\\n- \\u2060Abbot India\\n\\n📌 **Stocks under F&O Ban**:\\n\\n- Aarti Industries\\u2060\\n- AB Fashion\\n- \\u2060Adani Enterprises\\n- \\u2060GNFC\\n- \\u2060Granules India\\n- Hindustan Copper\\u2060\\n- \\u2060Indraprastha Gas\\n- \\u2060National Aluminum\\n\\n📌 **Stocks removed from F&O Ban**: Nil', 'Post Market Summary for 21st November, Thursday 📉📈💸🚀🔥 \\n\\nCheck out the market summary below 👇\\n\\nhttps://blog.liquide.life/post-market-summary-21st-november-2024/', '**The NTPC Green IPO is now Live!** 🌱💡\\n\\nOpen to know all the details and decide if this is your next big move in the market. 💼✨\\n\\nAre you subscribing to the NTPC Green IPO ❓ Let us know in the thread below! 👇\\n\\n(NTPC Green, NTPC IPO, Green Energy, Renewable Energy)', '**BANK NIFTY LEVELS FOR INTRADAY\\n\\nBanknifty is trading around 49950.\\n\\nRESISTANCE: Important resistance levels for banknifty are 50100 and 50300.\\n\\nSUPPORT: Important support levels for banknifty are 49800 and 49600.**', '**NIFTY50 LEVELS FOR INTRADAY\\n\\nNifty is trading around 23300.\\n\\nRESISTANCE: Important resistance levels for nifty are 23375 and 23430.\\n\\nSUPPORT: Important support levels for nifty are 23250 and 23200.**', 'Good Morning Telegram Family!\\n\\n**Market Cues for Today**\\n\\n📌 **Nifty:** The index has formed a ‘Gravestone Doji’ candlestick pattern on the daily chart.\\n\\n- Support: 23,450\\n- Resistance: 23,600\\n\\n📌 **Bank Nifty: **The index has formed a ‘Doji’ candlestick pattern on the daily chart.\\n\\n- Support: 50,300\\n- Resistance: 50,800 \\n \\n📌 **Long Build-Up in Stocks:**\\n\\n- Bharat Forge\\n- \\u2060Persistent Systems\\n- \\u2060Sun Pharmaceutical \\n- \\u2060Can Fin Homes\\n- \\u2060Eicher Motors\\n\\n📌 **Short Build-Up in Stocks: **\\n\\n- Indraprastha Gas\\n- \\u2060Mahanagar Gas\\n- \\u2060SBI Life\\n- \\u2060Abbot India\\n- \\u2060Bharti Airtel\\n\\n📌 **Stocks under F&O Ban:**\\n\\n- Aarti Industries\\n- AB Fashion\\n- \\u2060GNFC\\n- \\u2060Granules India\\n- Hindustan Copper\\u2060\\n- \\u2060Indraprastha Gas\\n\\n📌 **Stocks removed from F&O Ban:** Nil', '🚨 **Big Moves in October!**\\n\\nEquity funds see record inflows in October 2024 📈 \\n\\n👀 See what top Mutual Funds are buying & selling!\\n\\n🖥 https://blog.liquide.life/top-mutual-fund-picks-october-2024/', 'Post Market Summary for 19th November, Tuesday 📉📈💸🚀🔥 \\n\\nCheck out the market summary below 👇\\n\\nhttps://blog.liquide.life/post-market-summary-19th-november-2024/', '**FINNIFTY LEVELS FOR INTRADAY\\n\\nFinnifty is trading around 23400.\\n\\nRESISTANCE: Important resistance levels for finnifty are 23445 and 23500.\\n\\nSUPPORT: Important support levels for finnifty are 23350 and 23300.**', '**BANKNIFTY LEVELS FOR INTRADAY\\n\\nBanknifty is trading around 50800.\\n\\nRESISTANCE: Important resistance levels for banknifty are 51000 and 51200.\\n\\nSUPPORT: Important support levels for banknifty are 50600 and 50400.**', '**NIFTY50 LEVELS FOR INTRADAY\\n\\nNifty is trading around 23690.\\n\\nRESISTANCE: Important resistance levels for nifty are 23750 and 23800.\\n\\nSUPPORT: Important support levels for nifty are 23640 and 23570.\\n\\nNifty continued to respect its major descending trendline support and 200EMA will act as a critical zone.**', 'Good Morning Telegram Family!\\n\\n**Market Cues for Today**\\n\\n📌 **Nifty: **The index has formed a bearish candlestick pattern on the daily chart.\\n\\n- Support: 23,350\\n- Resistance: 23,600\\n\\n📌 **Bank Nifty:** The index has formed a Doji candlestick pattern (though not a classical one) on the daily chart.\\n\\n- Support: 50,000\\n- Resistance: 50,600 \\n \\n📌 **Long Build-Up in Stocks:**\\n\\n- National Aluminum \\n- \\u2060Piramal Enterprises\\n- \\u2060Tata Consumer\\n- \\u2060Max Financial \\n- \\u2060RBL Bank\\n\\n📌 **Short Build-Up in Stocks: **\\n\\n- Indraprastha Gas\\n- \\u2060Deepak Nitrite\\n- \\u2060Mahanagar Gas\\n- \\u2060Glenmark Pharma\\n- \\u2060Mphasis\\n\\n📌 **Stocks under F&O Ban:**\\n\\n- Aarti Industries\\n- AB Fashion\\n- \\u2060GNFC\\n- \\u2060Granules India\\n- Hindustan Copper\\u2060\\n\\n📌 **Stocks removed from F&O Ban: **Nil', 'Post Market Summary for 18th November, Monday 📉📈💸🚀🔥 \\n\\nCheck out the market summary below 👇\\n\\nhttps://blog.liquide.life/post-market-summary-18th-november-2024/', '**BANKNIFTY LEVELS FOR INTRADAY\\n\\nBanknifty is trading around 50200.\\n\\nRESISTANCE: Important resistance levels for banknifty are 50400 and 50600.\\n\\nSUPPORT: Important support levels for banknifty are 50000 and 49800.**', 'NIFTY50 LEVELS FOR INTRADAY\\n\\nNifty is trading around 23420.\\n\\nRESISTANCE: Important resistance levels for nifty are 23460 and 23520.\\n\\nSUPPORT: Important support levels for nifty are 23350 and 23250.', 'Good Morning Telegram Family!\\n\\n**Market Cues for Today**\\n\\n📌 **Nifty**: The index formed a bearish candlestick pattern on the daily chart on November 14th.\\n\\n- Support: 23,450\\n- Resistance: 23,680\\n\\n📌 **Bank Nifty: **The index formed a bullish candlestick pattern on the daily chart. \\n\\n- Support: 49,900\\n- Resistance: 50,600 \\n \\n📌 **Long Build-Up in Stocks:**\\n\\n- Eicher Motors\\n- \\u2060United Breweries\\n- \\u2060UPL\\n- \\u2060Deepak Nitrite\\n- \\u2060Apollo Tyres\\n\\n📌 **Short Build-Up in Stocks: **\\n\\n- PI Industries\\n- \\u2060Tata Consumer\\n- \\u2060Manappuram Finance\\n- \\u2060ABB\\n- \\u2060Dalmia Bharat\\n\\n📌 **Stocks under F&O Ban:**\\n\\n- Aarti Industries\\n- AB Fashion\\n- \\u2060GNFC\\n- \\u2060Granules India\\n- Hindustan Copper\\u2060\\n\\n📌 **Stocks removed from F&O Ban: **Nil', 'Post Market Summary for 14th November, Thursday 📉📈💸🚀🔥 \\n\\nCheck out the market summary below 👇\\n\\nhttps://blog.liquide.life/post-market-summary-14th-november-2024/', \"🔔📣 **We are live now** 🔴\\n\\nJoin the Liquide Academy's **MACD Divergence** masterclass**! **🕯\\n\\nAll Academy members can join us via the app or through your browser from 🔗 https://liquide.life/academy\\n\\nSee you in the session! ✨\", \"⏰ Quick reminder -1️⃣ Hour To Go!\\n\\n📊 Liquide Academy's **RSI: MACD Divergence** masterclass will go live in just **1 hour!** Be ready for a power-packed live session today with Kunal, Mohith & Laraib.\\n\\n**📌**** Join us at **7**:00 p.m sharp.**\\n\\nYou can join via the app, or through your browser from 🔗 https://liquide.life/academy\\n\\nGet ready and see you soon! ✨\", 'Good Morning Telegram Family!\\n\\n**Market Cues for Today**\\n\\n📌 **Nifty**: The index has formed a bearish candlestick pattern on the daily chart.\\n\\n- Support: 23,480\\n- Resistance: 23,670\\n\\n📌 **Bank Nifty:** The index has formed a bearish candlestick pattern on the daily chart.\\n\\n- Support: 49,900\\n- Resistance: 50,400 \\n \\n📌 **Long Build-Up in Stocks:**\\n\\n- Marico \\n- \\u2060Alkem Laboratories\\n- \\u2060Hindustan Unilever \\n- \\u2060Havells India \\n\\n📌 **Short Build-Up in Stocks: **\\n\\n- GNFC\\n- \\u2060IPCA Laboratories \\n- \\u2060Deepak Nitrite\\n- \\u2060Metropolis Healthcare\\n- \\u2060Sun TV\\n\\n📌 **Stocks under F&O Ban:**\\n\\n- Aarti Industries\\n- AB Fashion\\n- \\u2060GNFC\\n- \\u2060Granules India\\n- Hindustan Copper\\u2060\\n\\n📌 **Stocks removed from F&O Ban:**\\n\\n- Manappuram Finance', \"Hello Academy Members 👋\\n\\nWe are hosting a masterclass on **MACD Divergence** for Strategic Trading to help you refine your trading skills and spot trend reversals with confidence. 📕\\n\\n**🗓️ Date: 14th November, Tomorrow **\\n⏰ **Time: 7:00 p.m.**\\n\\n📌 **What we'll cover in this session:**\\n\\n🔹 MACD Basics\\n🔹 Divergence Signals\\n🔹 Entry & Exit Strategies\\n🔹 Real-World Examples\\n\\nThis session is designed to sharpen your skills and apply MACD divergence in real-world trading! 📊\\n\\n**Enroll now using the App or the link below 👇\\n**\\n🔗 https://liquide.life/academy\", 'Post Market Summary for 13th November, Wednesday 📉📈💸🚀🔥 \\n\\nCheck out the market summary below 👇\\n\\nhttps://blog.liquide.life/post-market-summary-13th-november-2024/', '**NIFTY50 Levels for Intraday\\n\\nNifty50 is trading around 23730.\\n\\nRESISTANCE: Important resistance levels for nifty are 23800 and 23850.\\n\\nSUPPORT: Important support levels for nifty are 23650 and 23585.**', '**BANKNIFTY LEVELS FOR INTRADAY\\n\\nBanknifty is trading around 50950.\\n\\nRESISTANCE: Important resistance levels for banknifty are 51200 and 51400.\\n\\nSUPPORT: Important support levels for banknifty are 50700 and 50450.**', 'Good Morning Telegram Family!\\n\\n**Market Cues for Today**\\n\\n📌 **Nifty:** The index has formed a bearish candlestick pattern on the daily chart.\\n\\n- Support: 23,800\\n- Resistance: 24,000\\n\\n📌 **Bank Nifty: **The index has formed a bearish candlestick pattern on the daily chart.\\n\\n- Support: 50,850\\n- Resistance: 51,350\\n \\n📌 **Long Build-Up in Stocks:**\\n\\n- Ramco Cements\\n- \\u2060ICICI Bank\\n- \\u2060Syngene International \\n- \\u2060ONGC\\n- \\u2060IPCA Laboratories\\n\\n📌 **Short Build-Up in Stocks: **\\n\\n- Deepak Nitrite\\n- \\u2060Marico\\n- \\u2060Crompton Greaves\\n- \\u2060Cipla\\n- \\u2060MCX\\n\\n📌 **Stocks under F&O Ban:**\\n\\n- Aarti Industries\\n- AB Fashion\\n- \\u2060Granules India\\n- Hindustan Copper\\u2060\\n- Manappuram Finance\\n\\n📌** Stocks removed from F&O Ban: **Nil', 'Post Market Summary for 12th November, Tuesday 📉📈💸🚀🔥 \\n\\nCheck out the market summary below 👇\\n\\nhttps://blog.liquide.life/post-market-summary-12th-november-2024/', '🔔 **WE ARE LIVE** 🔴\\n\\n**📱**  Join our YouTube Live session on top small-cap stocks in the Pharma & Healthcare sector! 🚀\\n\\nTap the link below to join now 👇\\n\\n🔗  https://www.youtube.com/live/g1TxS3kMdAc', \"**📱** **Pharma & Healthcare YT LIVE**  **📱**\\n\\n**Get ready to uncover the next big investment opportunity!** 🪙\\n\\nWe’re going ▶️ **on YouTube** to explore 3️⃣** small-cap stocks in the Pharma & Healthcare sector** 💊 that have the potential to revolutionize your portfolio! 🚀\\n\\n🗓️ **Date: 12th November’24, Today**\\n⏰ **Time: 6:00 PM**\\n\\n**In this session, we'll cover: ****📖**\\n\\n✍️ How to identify high-growth small-cap stocks\\n✍️ Key financial metrics to watch in the sector\\n\\nWhether you're experienced or new, this session will equip you with strategies to stay ahead. 💡\\n\\n**Subscribe now ** **📱** **and hit the bell icon** 🔔** to get notified when we go live! 👇**\\n\\n🔗 https://www.youtube.com/live/g1TxS3kMdAc\", '**BANK NIFTY LEVELS FOR INTRADAY\\n\\nBanknifty is trading around 51760.\\n\\nRESISTANCE: Immediate resistance levels for banknifty are 51900 and 52200.\\n\\nSUPPORT: Immediate support levels for banknifty are 51600 and  51400.**', '**NIFTY50 LEVELS FOR INTRADAY\\n\\nNifty is trading around 24170.\\n\\nRESISTANCE: Immediate resistance levels for nifty are 24200 and 24245.\\n\\nSUPPORT: Immediate support levels for nifty are 24100 and 24050.**', 'Good Morning Telegram Family!\\n\\n**Market Cues for Today**\\n\\n📌 **Nifty: **The index has formed a bullish candlestick pattern on the daily chart. \\n\\n- Support: 24,050\\n- Resistance: 24,300\\n\\n📌 **Bank Nifty:** The index has formed a bullish candlestick pattern on the daily chart.\\n\\n- Support: 51,680\\n- Resistance: 52,080\\n \\n📌 **Long Build-Up in Stocks:**\\n\\n- PI Industries\\n- \\u2060IDFC First Bank\\n- \\u2060Hindalco Industries\\n- \\u2060Bharat Electronics\\n- \\u2060Ramco Cements\\n\\n📌 **Short Build-Up in Stocks: **\\n\\n- Aarti Industries \\n- \\u2060Asian Paints\\n- \\u2060Jubilant Foodworks\\n- \\u2060Deepak Nitrite\\n- \\u2060Shree Cement \\n\\n📌 **Stocks under F&O Ban:**\\n\\n- Aarti Industries\\n- AB Fashion\\n- \\u2060Granules India\\n- Hindustan Copper\\u2060\\n- Manappuram Finance\\n\\n📌 **Stocks removed from F&O Ban:** Nil', 'Post Market Summary for 11th November, Monday 📉📈💸🚀🔥 \\n\\nCheck out the market summary below 👇\\n\\nhttps://blog.liquide.life/post-market-summary-11th-november-2024/', '**BANK NIFTY LEVELS FOR INTRADAY\\n\\nBanknifty is trading around 52040.\\n\\nRESISTANCE: Immediate resistance levels for banknifty are 52200 and 52400.\\n\\nSUPPORT: Immediate support levels for banknifty are 51800 and 51600.**', '**NIFTY50 LEVELS FOR INTRADAY\\n\\nNifty is trading around 24270.\\n\\nRESISTANCE: Important resistance levels for nifty are 24330 and 24380.\\n\\nSUPPORT: Important support levels for nifty are 24230 and 24180.**', 'Good Morning Telegram Family!\\n\\n**Market Cues for Today**\\n\\n📌 **Nifty: **The index has formed a bearish candlestick pattern on the daily chart.\\n\\n- Support: 24,040\\n- Resistance: 24,200 \\n\\n📌 **Bank Nifty: **The index has formed a bearish candlestick pattern on the daily chart.\\n\\n- Support: 51,400\\n- Resistance: 52,000 \\n \\n📌 **Long Build-Up in Stocks:**\\n\\n- JSW Steel\\n- Britannia Industries\\n- Metropolis Healthcare\\n- Crompton Greaves\\n- Laurus Labs \\n\\n📌 **Short Build-Up in Stocks: **\\n\\n- Aarti Industries\\n- Aurobindo Pharma\\n- Manappuram Finance\\n- Trent\\n- Asian Paints\\n\\n📌 **Stocks under F&O Ban:**\\n\\n- AB Fashion\\n- \\u2060Granules India\\n- Manappuram Finance\\n\\n📌 **Stocks removed from F&O Ban: **Nil', \"Markets ended lower amid volatility in a news-heavy week. 🕯\\n\\n📌 Here's our take on this week gone by, some stories you might have missed out on, and our thoughts on what to do going ahead, in your weekly report.\\n\\n🖥 https://blog.liquide.life/weekly-stock-market-recap-earnings-sector-performance/\", 'Post Market Summary for 8th November, Friday 📉📈💸🚀🔥 \\n\\nCheck out the market summary below 👇 \\n\\nhttps://blog.liquide.life/post-market-summary-8th-november-2024/', \"🍔 **Zomato Share Price Rally | Should You invest Now** ❓\\n\\nZomato’s share price took a U-turn and reported profits for the first time! 📈\\n\\n📱 In this video, we’ll dive into Zomato's share price journey, future projections, competition with Swiggy, and their business segments. Can Zomato become a multibagger stock in your portfolio? And will it continue to rise until 2030, or face more challenges ahead?\\n\\nJoin us to unpack the financial details, the latest news, and predictions for Zomato’s stock price. Is Zomato worth adding to your portfolio, or is it just riding a speculative wave? Watch till the end to make an informed decision! \\n\\n🔗 https://youtu.be/qSaCgf6zys0\\n\\n#zomatoshareprice #zomatosharepriceanalysis\", \"While the 47th President of the USA, 🇺🇸 Donald Trump, has never personally gone bankrupt, his hotels and casinos have filed for Chapter 11 bankruptcy six times. Each time, he navigated the financial troubles strategically, once saying, 'I do play with the bankruptcy laws—they’re very good for me.'\\n\\nA businessman long before his political career, Trump took over his father’s real estate company in 1971, building it into the Trump Organization we know today. 💸\\n\\nExplore Trump’s biggest financial risks, the billions in debt, and where his net worth stands now!\", '**NIFTY50 LEVELS FOR INTRADAY\\n\\nNifty is trading around 24140.\\n\\nRESISTANCE: Important resistance levels for nifty are 24200 and 24250.\\n\\nSUPPORT: Important support levels for nifty are 24070 and 24000.**', '**BANKNIFTY LEVELS FOR INTRADAY\\n\\nBanknifty is trading around 51650.\\n\\nRESISTANCE: Immediate resistance levels for banknifty are 51800 and 52000.\\n\\nSUPPORT: Immediate support levels for banknifty are 51550 and 51400.**', 'Good Morning Telegram Family!\\n\\n**Market Cues for Today**\\n\\n📌 **Nifty**: The index has formed a bearish candlestick pattern on the daily chart.\\n\\n- Support: 24,160\\n- Resistance: 24,260 \\n\\n📌 **Bank Nifty:** The index has formed a bearish candlestick pattern on the daily chart. \\n\\n- Support: 51,650\\n- Resistance: 52,100\\n \\n📌 **Long Build-Up in Stocks:**\\n\\n- Apollo Hospitals\\n- \\u2060Divi’s Laboratories \\n- \\u2060PI Industries\\n- \\u2060Sun TV\\n- \\u2060Federal Bank\\n\\n📌 **Short Build-Up in Stocks**: \\n\\n- Hindalco\\n- \\u2060Granules India\\n- \\u2060Abbot India\\n- \\u2060AB Fashion\\n- \\u2060Escorts\\n\\n📌 **Stocks under F&O Ban:**\\n\\n- AB Fashion\\n- \\u2060Granules India', 'Post Market Summary for 7th November, Thursday 📉📈💸🚀🔥 \\n\\nCheck out the market summary below 👇 \\n\\nhttps://blog.liquide.life/post-market-summary-7th-november-2024/', '**NIFTY50 LEVELS FOR INTRADAY\\n\\nNifty is trading around 24210.\\n\\nRESISTANCE: Important resistance levels for nifty are 24280 and 24340.\\n\\nSUPPORT: Important support levels for nifty are 24175 and 24100.**', '**BANKNIFTY LEVELS FOR INTRADAY\\n\\nBanknifty is trading around 52080.\\n\\nRESISTANCE: Important resistance levels for banknifty are 52300 and 52600.\\n\\nSUPPORT: Important support levels for banknifty are 51800 and 51600.\\n\\nOverall 52600 will act as a crucial resistance level, as Bank Nifty has been rejected at the supply zone twice. A breakout above this level may change the trend, while the 51400 area will serve as a major support level.**', 'Good Morning Telegram Family!\\n\\n**Market Cues for Today**\\n\\n📌 **Nifty**: The index has formed a bullish candlestick pattern on the daily chart.\\n\\n- Support: 24,380\\n- Resistance: 24,600 \\n\\n📌 **Bank Nifty**: The index has formed a bearish candlestick pattern on the daily chart.\\n\\n- Support: 52,000\\n- Resistance: 52,600 \\n \\n📌 **Long Build-Up in Stocks**:\\n\\n- Syngene International \\n- \\u2060Mphasis\\n- \\u2060Granules India\\n- \\u2060Chambal Fertilisers\\n- \\u2060Indiamart Intermesh\\n\\n📌 **Short Build-Up in Stocks**: \\n\\n- Trent\\n- \\u2060IndusInd Bank\\n- \\u2060Lupin\\n- \\u2060AB Fashion\\n- \\u2060SBI Life\\n\\n📌 **Stocks under F&O Ban**: Nil', 'Post Market Summary for 6th November, Wednesday 📉📈💸🚀🔥 \\n\\nCheck out the market summary below 👇 \\n\\nhttps://blog.liquide.life/post-market-summary-6th-november-2024/', 'Indians have always been jugaadu, but AI is taking it to a whole new level! . 🚀 \\n\\nCurious about how AI is transforming industries? \\n\\nThis video explores AI’s trillion-dollar impact on India’s economy, backed by strong government initiatives, and highlights companies on a bullish trend within this booming industry. 🚀\\n\\nUnderstand how these top AI stocks could reshape the market.🚀  \\n\\nClick on the link below 👇 to watch !\\n🔗 https://www.youtube.com/watch?v=098uQyFHc00', '**BANKNIFTY LEVELS FOR INTRADAY\\n\\nBanknifty is trading around 52330.\\n\\nRESISTANCE: Important resistance levels for banknifty are 52600 and 52800.\\n\\nSUPPORT: Important support levels for banknifty are 52200 and 52000.**', '**NIFTY50 LEVELS FOR INTRADAY\\n\\nNIFTY50 is trading around 24480.\\n\\nRESISTANCE: Important resistance levels for nifty are 24540 and 24600.\\n\\nSUPPORT: Important support levels for nifty are 24400 and 24355.**', 'Good Morning Telegram Family!\\n\\n**Market Cues for Today**\\n\\n📌 **Nifty**: The index has formed a bullish candlestick pattern on the daily chart.\\n\\n- Support: 24,100\\n- Resistance: 24,300\\n\\n📌 **Bank Nifty**: The index has formed a long bullish candlestick pattern on the daily chart.\\n\\n- Support: 51,800\\n- Resistance: 52,360\\n \\n📌 **Long Build-Up in Stocks**:\\n\\n- National Aluminum \\n- \\u2060State Bank of India\\n- \\u2060Manappuram Finance\\n- \\u2060Punjab National Bank\\n- \\u2060Titan \\n\\n📌 **Short Build-Up in Stocks**: \\n\\n- Mahanagar Gas\\n- \\u2060Indiamart\\n- \\u2060JK Cement\\n- \\u2060Trent\\n- \\u2060RBL Bank\\n\\n📌 **Stocks under F&O Ban**: Nil', 'Post Market Summary for 5th November, Tuesday 📉📈💸🚀🔥 \\n\\nCheck out the market summary below 👇 \\n\\nhttps://blog.liquide.life/post-market-summary-5th-november-2024/', '**NIFTY50 LEVELS FOR INTRADAY\\n\\nNifty is trading around 23980.\\n\\nRESISTANCE: Immediate resistance levels for nifty are 24050 and 24100.\\n\\nSUPPORT: Immediate support levels for nifty are 23950 and 23900.**', '**BANKNIFTY LEVELS FOR INTRADAY\\n\\nBanknifty is trading around 51200.\\n\\nRESISTANCE: Important resistance levels for banknifty are 51400 and 51600.\\n\\nSUPPORT: Important support levels for banknifty are 51050 and 50900.**', 'Good Morning Telegram Family!\\n\\n**Market Cues for Today**\\n\\n📌 **Nifty**: The index has formed a bearish candlestick pattern on the daily chart.\\n\\n- Support: 23,920\\n- Resistance: 24,070\\n\\n📌 **Bank Nifty**: The index has formed a long bearish candlestick pattern on the daily chart.\\n\\n- Support: 51,000\\n- Resistance: 51,420\\n \\n📌 **Long Build-Up in Stocks**:\\n\\n- Punjab National Bank\\n- \\u2060Abbot India\\n- \\u2060Dixon Technologies \\n- \\u2060Info Edge\\n- \\u2060Bharat Forge\\n\\n📌 **Short Build-Up in Stocks**: \\n\\n- RBL Bank\\n- \\u2060Indiamart Intermesh\\n- \\u2060IDFC First Bank\\n- \\u2060MCX\\n- \\u2060Manappuram Finance\\n\\n📌 **Stocks under F&O Ban**: Nil', 'Post Market Summary for 4th November, Monday 📉📈💸🚀🔥 \\n\\nCheck out the market summary below 👇 \\n\\nhttps://blog.liquide.life/post-market-summary-4th-november-2024-2/', '**NIFTY50 LEVELS FOR INTRADAY\\n\\nNifty is trading around 23915.\\n\\nRESISTANCE: Immediate resistance levels for nifty are 23960 and 24000.\\n\\n\\nSUPPORT: Important support levels for nifty are 23880 and 23800.**', '**BANKNIFTY LEVELS FOR INTRADAY\\n\\nBanknifty is trading around 51280.\\n\\nRESISTANCE: Important resistance levels for banknifty are 51400 and 51600.\\n\\nSUPPORT: Important support levels for banknifty are 51150 and 50900.**', \"Good Morning Telegram Family!\\n\\n**Market Cues for Today**\\n\\n📌 **Nifty**: The index has formed a small indecisive candlestick pattern on the daily chart.\\n\\n- Support: 24,240\\n- Resistance: 24,370\\n\\n📌 **Bank Nifty**: The index has formed a small bullish candlestick pattern on the daily chart. \\n\\n- Support: 51,330\\n- Resistance: 52,000\\n \\n📌 **Long Build-Up in Stocks**:\\n\\n- RBL Bank\\n- IDFC First Bank\\n- Punjab National Bank\\n- Indiamart Intermesh\\n- Manappuram Finance \\n\\n📌 **Short Build-Up in Stocks**: \\n\\n- Dr Reddy's Lab\\n- ABB\\n- Berger Paints\\n- MCX\\n- Birlasoft\\n\\n📌 **Stocks under F&O Ban**: Nil\", \"🔔📣 **We are live now** 🔴\\n\\nJoin the Liquide Academy's **Muhurat Trading 2024** session**! **🕯\\n\\nAll Academy members can join us via the app or through your browser from 🔗 https://liquide.life/academy\\n\\nSee you in the session! ✨\", \"⏰ Quick reminder -1️⃣ Hour To Go!\\n\\n📊 Liquide Academy's **Muhurat Trading 2024** session will go live in just **1 hour!** Be ready for a power-packed live session today with Kunal & Mohith.\\n\\n**📌**** Join us at 6:00 p.m sharp.**\\n\\nYou can join via the app, or through your browser from 🔗 https://liquide.life/academy\\n\\nGet ready and see you soon! ✨\", 'Post Market Summary for 31st October, Thursday 📉📈💸🚀🔥 \\n\\nCheck out the market summary below 👇 \\n\\nhttps://blog.liquide.life/post-market-summary-31st-october-2024/', 'Hello Academy Members 👋\\n\\n**Gear up for Muhurat Trading 2024!** 📊\\n\\n🌟 Celebrate Diwali with prosperity as we unveil 7 auspicious stock picks designed to light up your portfolio. 📈\\n\\n🗓 **Date: 1st November ‘24, Tomorrow**\\n⏰ **Time: 6:00 p.m.**\\n\\n**What You’ll Learn, in this session:**\\n✔️ Significance of Muhurat Trading\\n✔️ Promising stocks for Diwali\\n\\n**Use the App or tap the link below to enroll now** 👇\\n\\n🔗 https://liquide.life/academy', 'Happy Deepawali, everyone! Wishing you a prosperous year filled with bright returns and steady growth. Here’s to a year where every investment shines and every risk pays off. Have a fantastic festival and a rewarding year ahead! 🪔 🪔', 'Good Morning Telegram Family!\\n\\n**Market Cues for Today**\\n\\n📌 **Nifty:** The index has formed a small bearish candlestick pattern with a long upper shadow on the daily chart.\\n\\n- Support: 24,300\\n- Resistance: 24,430 \\n\\n📌 **Bank Nifty:** The index has formed a bearish candlestick pattern with an upper shadow on the daily chart.\\n\\n- Support: 51,600\\n- Resistance: 52,100\\n \\n📌 **Long Build-Up in Stocks:**\\n\\n- AB Capital\\n- \\u2060SBI Cards\\n- \\u2060Shree Cement\\n- \\u2060Sun TV\\n- \\u2060Bharat Forge\\n\\n📌 **Short Build-Up in Stocks: **\\n\\n- Torrent Pharma\\n- \\u2060Voltas\\n- \\u2060Dixon Technologies\\n- \\u2060ABB\\n- \\u2060M&M\\n\\n📌 **Stocks under F&O Ban: **\\n\\n- \\u2060IDFC First Bank\\n- \\u2060Indiamart\\n- \\u2060Punjab National Bank\\n- RBL Bank\\u2060\\n\\n📌 **Stocks removed from F&O Ban: **\\n\\n- L&T Finance\\n- \\u2060Manappuram Finance', 'Post Market Summary for 30th October, Wednesday 📉📈💸🚀🔥 \\n\\nCheck out the market summary below 👇 \\n\\nhttps://blog.liquide.life/post-market-summary-30th-october-2024/', 'Good Morning Telegram Family!\\n\\n**Market Cues for Today**\\n\\n📌 **Nifty: **The index has formed a bullish candlestick pattern on the daily chart.\\n\\n- Support: 24,380\\n- Resistance: 24,500\\n\\n📌 **Bank Nifty: **The index has formed a long bullish candlestick pattern on the daily chart.\\n\\n- Support: 51,800\\n- Resistance: 52,600\\n \\n📌 **Long Build-Up in Stocks:**\\n\\n- City Union Bank\\n- \\u2060ICICI Prudential\\n- \\u2060Voltas\\n- \\u2060Federal Bank\\n- \\u2060AB Capital\\n\\n📌 **Short Build-Up in Stocks: **\\n\\n- Torrent Pharma\\n- \\u2060Hero Motocorp\\n- \\u2060Metropolis\\n- \\u2060Bajaj Auto\\n- \\u2060Maruti Suzuki\\n\\n📌 **Stocks under F&O Ban: **\\n\\n- \\u2060IDFC First Bank\\n- \\u2060Indiamart\\n- \\u2060L&T Finance\\n- \\u2060Manappuram Finance\\n- \\u2060Punjab National Bank\\n- RBL Bank\\u2060\\n\\n📌 **Stocks removed from F&O Ban: **\\n\\n- Dixon Technologies\\n- \\u2060Escorts Kubota', 'Post Market Summary for 29th October, Tuesday 📉📈💸🚀🔥 \\n\\nCheck out the market summary below 👇 \\n\\nhttps://blog.liquide.life/post-market-summary-29th-october-2024/', 'Shubh Dhanteras to all our Telegram Family! ✨', 'Good Morning Telegram Family!\\n\\n**Market Cues for Today**\\n\\n📌 **Nifty:** The index has formed a bullish candlestick pattern, with upper and lower shadows on the daily chart.\\n\\n- Support: 24,250\\n- Resistance: 24,425\\n\\n📌 **Bank Nifty: **The index has formed a bullish candlestick pattern with a long upper shadow on the daily chart.\\n\\n- Support: 51,000\\n- Resistance: 51,600 \\n \\n📌 **Long Build-Up in Stocks:**\\n\\n- Eicher Motors\\n- \\u2060MCX\\n- \\u2060Lupin\\n- \\u2060LIC Housing\\n- \\u2060Coromandel \\n\\n📌 **Short Build-Up in Stocks: **\\n\\n- Federal Bank\\n- \\u2060United Breweries \\n- \\u2060Marico\\n- \\u2060Cholamandalam Inv \\n- \\u2060ABB\\n\\n📌 **Stocks under F&O Ban: **\\n\\n- \\u2060Dixon Technologies\\n- \\u2060Escorts Kubota\\n- \\u2060IDFC First Bank\\n- \\u2060Indiamart\\n- \\u2060L&T Finance\\n- \\u2060Manappuram Finance\\n- \\u2060Punjab National Bank\\n- RBL Bank\\u2060\\n\\n📌 **Stocks removed from F&O Ban: **\\n\\n- Aarti Industries\\n- Bandhan Bank\\n- \\u2060NMDC']\n"
          ]
        }
      ]
    },
    {
      "cell_type": "code",
      "source": [
        "import nest_asyncio\n",
        "import asyncio\n",
        "from telethon import TelegramClient, errors\n",
        "import re\n",
        "import pandas as pd\n",
        "from datetime import datetime\n",
        "\n",
        "# Apply nest_asyncio to allow nested event loops\n",
        "nest_asyncio.apply()\n",
        "\n",
        "# Define stock market indices to search for\n",
        "stock_indices = [\n",
        "    \"Nifty\", \"Nifty50\", \"BankNifty\", \"FinNifty\", \"Sensex\", \"MidcapNifty\"\n",
        "]\n",
        "\n",
        "# Regular expressions to identify support, resistance levels, and current trading value\n",
        "support_pattern = re.compile(r\"(support|support at)[^\\d]*(\\d+\\.?\\d*)\\s*and[^\\d]*(\\d+\\.?\\d*)\", re.IGNORECASE)\n",
        "resistance_pattern = re.compile(r\"(resistance|resistance at)[^\\d]*(\\d+\\.?\\d*)\\s*and[^\\d]*(\\d+\\.?\\d*)\", re.IGNORECASE)\n",
        "current_trading_pattern = re.compile(r\"(\\bNifty\\b|\\bBankNifty\\b|\\bFinNifty\\b|\\bSensex\\b|\\bMidcapNifty\\b)[^\\d]*(\\d+\\.?\\d*)\", re.IGNORECASE)\n",
        "\n",
        "# Regular expression to identify candlestick patterns\n",
        "pattern_candlestick = re.compile(r\"\\b(bearish|bullish|harami|doji|hammer|shooting star|engulfing|spinning top)\\b\", re.IGNORECASE)\n",
        "\n",
        "# Regular expressions to identify long buildup, short buildup, and F&O ban\n",
        "long_buildup_pattern = re.compile(r\"(long buildup|long build-up|long positions)\", re.IGNORECASE)\n",
        "short_buildup_pattern = re.compile(r\"(short buildup|short build-up|short positions)\", re.IGNORECASE)\n",
        "fo_ban_pattern = re.compile(r\"(F&O ban|under F&O ban)\", re.IGNORECASE)\n",
        "\n",
        "def find_stock_indices(message_text):\n",
        "    \"\"\"Search for stock market indices in a message.\"\"\"\n",
        "    indices_found = []\n",
        "    for index in stock_indices:\n",
        "        if re.search(r'\\b' + re.escape(index) + r'\\b', message_text, re.IGNORECASE):\n",
        "            indices_found.append(index)\n",
        "    return indices_found\n",
        "\n",
        "def extract_levels(message_text):\n",
        "    \"\"\"Extract support and resistance levels from a message.\"\"\"\n",
        "    support_1, support_2, resistance_1, resistance_2 = None, None, None, None\n",
        "\n",
        "    support_match = support_pattern.search(message_text)\n",
        "    resistance_match = resistance_pattern.search(message_text)\n",
        "\n",
        "    if support_match:\n",
        "        support_1 = float(support_match.group(2))  # Extracted Support 1 level\n",
        "        support_2 = float(support_match.group(3))  # Extracted Support 2 level\n",
        "    if resistance_match:\n",
        "        resistance_1 = float(resistance_match.group(2))  # Extracted Resistance 1 level\n",
        "        resistance_2 = float(resistance_match.group(3))  # Extracted Resistance 2 level\n",
        "\n",
        "    return support_1, support_2, resistance_1, resistance_2\n",
        "\n",
        "def extract_current_trading_value(message_text):\n",
        "    \"\"\"Extract current trading value for a market index.\"\"\"\n",
        "    current_value = None\n",
        "    match = current_trading_pattern.search(message_text)\n",
        "    if match:\n",
        "        current_value = float(match.group(2))  # Extracted current trading value\n",
        "    return current_value\n",
        "\n",
        "def extract_pattern(message_text):\n",
        "    \"\"\"Extract candlestick pattern from the message.\"\"\"\n",
        "    match = pattern_candlestick.search(message_text)\n",
        "    return match.group(1).capitalize() if match else None\n",
        "\n",
        "def extract_buildups(message_text):\n",
        "    \"\"\"Extract long buildup, short buildup, and F&O ban status from a message.\"\"\"\n",
        "    long_buildup = bool(long_buildup_pattern.search(message_text))\n",
        "    short_buildup = bool(short_buildup_pattern.search(message_text))\n",
        "    fo_ban = bool(fo_ban_pattern.search(message_text))\n",
        "    return long_buildup, short_buildup, fo_ban\n",
        "\n",
        "def extract_date(message):\n",
        "    \"\"\"Extract date from the message metadata (if available).\"\"\"\n",
        "    return message.date.strftime('%Y-%m-%d %H:%M:%S')\n",
        "\n",
        "async def scrape_channel(channel_username, limit=100):\n",
        "    messages = []\n",
        "    try:\n",
        "        async for message in client.iter_messages(channel_username, limit=limit):\n",
        "            if message.text:  # Ensure message text is not None\n",
        "                indices_in_message = find_stock_indices(message.text)\n",
        "                if indices_in_message:  # If the message contains stock indices\n",
        "                    date = extract_date(message)\n",
        "                    support_1, support_2, resistance_1, resistance_2 = extract_levels(message.text)\n",
        "                    current_value = extract_current_trading_value(message.text)\n",
        "                    pattern = extract_pattern(message.text)\n",
        "                    long_buildup, short_buildup, fo_ban = extract_buildups(message.text)\n",
        "                    for index in indices_in_message:\n",
        "                        messages.append([date, index, support_1, support_2, resistance_1, resistance_2, current_value, pattern, long_buildup, short_buildup, fo_ban, message.text])  # Store all info\n",
        "    except errors.FloodWaitError as e:\n",
        "        print(f\"Rate limit hit, waiting for {e.seconds} seconds...\")\n",
        "        await asyncio.sleep(e.seconds)  # Pause for the required duration\n",
        "        return await scrape_channel(channel_username, limit)  # Retry after waiting\n",
        "    return messages\n",
        "\n",
        "# Connect to the client and scrape the channel\n",
        "async def main(channel_username):\n",
        "    await client.start()\n",
        "    data = await scrape_channel(channel_username, limit=100)\n",
        "    await client.disconnect()\n",
        "    return data\n",
        "\n",
        "# Run the main function\n",
        "channel_username = 'LIQUIDEOFFICIAL'  # Replace with the channel's username\n",
        "data = asyncio.run(main(channel_username))\n",
        "\n",
        "# Convert the scraped data into a DataFrame\n",
        "columns = ['Date', 'Stock Index', 'Support 1', 'Support 2', 'Resistance 1', 'Resistance 2',\n",
        "           'Current', 'Pattern', 'Long Buildup', 'Short Buildup', 'Under F&O Ban', 'Message']\n",
        "df = pd.DataFrame(data, columns=columns)\n",
        "\n",
        "# Remove the unwanted columns: Long Buildup, Short Buildup, Under F&O Ban, Message\n",
        "df = df.drop(columns=['Long Buildup', 'Short Buildup', 'Under F&O Ban', 'Message'])\n",
        "\n",
        "# Display the DataFrame\n",
        "print(df)\n",
        "\n",
        "# Optionally, save the filtered data to a CSV file\n",
        "#df.to_csv('stock_indices_with_support_resistance_current_pattern.csv', index=False)\n"
      ],
      "metadata": {
        "colab": {
          "base_uri": "https://localhost:8080/"
        },
        "id": "2TKFQPA6HDhd",
        "outputId": "ad1aae27-51b8-4847-ece2-b872c5296369"
      },
      "execution_count": 80,
      "outputs": [
        {
          "output_type": "stream",
          "name": "stdout",
          "text": [
            "                   Date Stock Index  Support 1  Support 2  Resistance 1  Resistance 2  Current  \\\n",
            "0   2024-12-02 05:38:26       Nifty    24075.0    24025.0       24180.0       24250.0  24120.0   \n",
            "1   2024-12-02 05:38:26     Nifty50    24075.0    24025.0       24180.0       24250.0  24120.0   \n",
            "2   2024-12-02 02:58:56       Nifty        NaN        NaN           NaN           NaN     24.0   \n",
            "3   2024-12-01 13:52:31       Nifty        NaN        NaN           NaN           NaN   2024.0   \n",
            "4   2024-11-29 05:32:18      Sensex    79400.0    79200.0       79900.0       80150.0  79670.0   \n",
            "5   2024-11-29 04:47:55       Nifty    23885.0    23800.0       24065.0       24130.0  24000.0   \n",
            "6   2024-11-29 04:47:55     Nifty50    23885.0    23800.0       24065.0       24130.0  24000.0   \n",
            "7   2024-11-29 03:02:18       Nifty        NaN        NaN           NaN           NaN     23.0   \n",
            "8   2024-11-28 06:19:37       Nifty    52000.0    51770.0       52300.0       52500.0  52180.0   \n",
            "9   2024-11-28 06:19:37   BankNifty    52000.0    51770.0       52300.0       52500.0  52180.0   \n",
            "10  2024-11-28 06:11:17       Nifty    24000.0    23960.0       24120.0       24160.0  24060.0   \n",
            "11  2024-11-28 06:11:17     Nifty50    24000.0    23960.0       24120.0       24160.0  24060.0   \n",
            "12  2024-11-28 02:56:56       Nifty        NaN        NaN           NaN           NaN     24.0   \n",
            "13  2024-11-27 07:47:53       Nifty    24270.0    24230.0       24350.0       24400.0  24320.0   \n",
            "14  2024-11-27 07:47:53     Nifty50    24270.0    24230.0       24350.0       24400.0  24320.0   \n",
            "15  2024-11-27 07:41:22       Nifty    52250.0    52000.0       52550.0       52800.0  52400.0   \n",
            "16  2024-11-27 07:41:22   BankNifty    52250.0    52000.0       52550.0       52800.0  52400.0   \n",
            "17  2024-11-27 02:46:33       Nifty        NaN        NaN           NaN           NaN     24.0   \n",
            "18  2024-11-26 05:33:45   BankNifty    51950.0    51750.0       52300.0       52550.0  52130.0   \n",
            "19  2024-11-26 05:25:39       Nifty    24135.0    24080.0       24265.0       24300.0  24230.0   \n",
            "20  2024-11-26 05:25:39     Nifty50    24135.0    24080.0       24265.0       24300.0  24230.0   \n",
            "21  2024-11-26 03:09:18       Nifty        NaN        NaN           NaN           NaN     24.0   \n",
            "22  2024-11-25 04:49:07       Nifty    51900.0    51600.0       52300.0       52450.0  52130.0   \n",
            "23  2024-11-25 04:49:07   BankNifty    51900.0    51600.0       52300.0       52450.0  52130.0   \n",
            "24  2024-11-25 04:34:10       Nifty    24210.0    24160.0       24340.0       24400.0  24270.0   \n",
            "25  2024-11-25 04:34:10     Nifty50    24210.0    24160.0       24340.0       24400.0  24270.0   \n",
            "26  2024-11-25 03:04:22       Nifty        NaN        NaN           NaN           NaN     23.0   \n",
            "27  2024-11-25 01:37:30       Nifty        NaN        NaN           NaN           NaN      NaN   \n",
            "28  2024-11-22 07:49:26   BankNifty    50800.0    50600.0       51300.0       51500.0  51000.0   \n",
            "29  2024-11-22 04:48:36      Sensex    77450.0    77200.0       77900.0       78200.0  77700.0   \n",
            "30  2024-11-22 04:43:35       Nifty    23540.0    23480.0       23650.0       23720.0  23585.0   \n",
            "31  2024-11-22 04:43:35     Nifty50    23540.0    23480.0       23650.0       23720.0  23585.0   \n",
            "32  2024-11-22 02:44:16       Nifty        NaN        NaN           NaN           NaN     23.0   \n",
            "33  2024-11-21 04:31:36       Nifty    49800.0    49600.0       50100.0       50300.0  49950.0   \n",
            "34  2024-11-21 04:31:36   BankNifty    49800.0    49600.0       50100.0       50300.0  49950.0   \n",
            "35  2024-11-21 04:25:41       Nifty    23250.0    23200.0       23375.0       23430.0  23300.0   \n",
            "36  2024-11-21 04:25:41     Nifty50    23250.0    23200.0       23375.0       23430.0  23300.0   \n",
            "37  2024-11-21 02:56:11       Nifty        NaN        NaN           NaN           NaN     23.0   \n",
            "38  2024-11-19 04:54:10    FinNifty    23350.0    23300.0       23445.0       23500.0  23400.0   \n",
            "39  2024-11-19 04:43:46   BankNifty    50600.0    50400.0       51000.0       51200.0  50800.0   \n",
            "40  2024-11-19 04:35:53       Nifty    23640.0    23570.0       23750.0       23800.0  23690.0   \n",
            "41  2024-11-19 04:35:53     Nifty50    23640.0    23570.0       23750.0       23800.0  23690.0   \n",
            "42  2024-11-19 02:56:56       Nifty        NaN        NaN           NaN           NaN     23.0   \n",
            "43  2024-11-18 04:25:44   BankNifty    50000.0    49800.0       50400.0       50600.0  50200.0   \n",
            "44  2024-11-18 04:22:03       Nifty    23350.0    23250.0       23460.0       23520.0  23420.0   \n",
            "45  2024-11-18 04:22:03     Nifty50    23350.0    23250.0       23460.0       23520.0  23420.0   \n",
            "46  2024-11-18 02:53:56       Nifty        NaN        NaN           NaN           NaN     14.0   \n",
            "47  2024-11-14 02:48:56       Nifty        NaN        NaN           NaN           NaN     23.0   \n",
            "48  2024-11-13 05:00:43       Nifty    23650.0    23585.0       23800.0       23850.0  23800.0   \n",
            "49  2024-11-13 05:00:43     Nifty50    23650.0    23585.0       23800.0       23850.0  23800.0   \n",
            "50  2024-11-13 04:52:27   BankNifty    50700.0    50450.0       51200.0       51400.0  50950.0   \n",
            "51  2024-11-13 02:50:20       Nifty        NaN        NaN           NaN           NaN     23.0   \n",
            "52  2024-11-12 05:50:43       Nifty    51600.0    51400.0       51900.0       52200.0  51760.0   \n",
            "53  2024-11-12 05:50:43   BankNifty    51600.0    51400.0       51900.0       52200.0  51760.0   \n",
            "54  2024-11-12 04:52:32       Nifty    24100.0    24050.0       24200.0       24245.0  24170.0   \n",
            "55  2024-11-12 04:52:32     Nifty50    24100.0    24050.0       24200.0       24245.0  24170.0   \n",
            "56  2024-11-12 03:00:27       Nifty        NaN        NaN           NaN           NaN     24.0   \n",
            "57  2024-11-11 05:45:40       Nifty    51800.0    51600.0       52200.0       52400.0  52040.0   \n",
            "58  2024-11-11 05:45:40   BankNifty    51800.0    51600.0       52200.0       52400.0  52040.0   \n",
            "59  2024-11-11 05:40:33       Nifty    24230.0    24180.0       24330.0       24380.0  24270.0   \n",
            "60  2024-11-11 05:40:33     Nifty50    24230.0    24180.0       24330.0       24380.0  24270.0   \n",
            "61  2024-11-11 02:40:58       Nifty        NaN        NaN           NaN           NaN     24.0   \n",
            "62  2024-11-08 06:09:17       Nifty    24070.0    24000.0       24200.0       24250.0  24140.0   \n",
            "63  2024-11-08 06:09:17     Nifty50    24070.0    24000.0       24200.0       24250.0  24140.0   \n",
            "64  2024-11-08 06:06:06   BankNifty    51550.0    51400.0       51800.0       52000.0  51650.0   \n",
            "65  2024-11-08 02:43:49       Nifty        NaN        NaN           NaN           NaN     24.0   \n",
            "66  2024-11-07 04:42:52       Nifty    24175.0    24100.0       24280.0       24340.0  24210.0   \n",
            "67  2024-11-07 04:42:52     Nifty50    24175.0    24100.0       24280.0       24340.0  24210.0   \n",
            "68  2024-11-07 04:20:08       Nifty    51800.0    51600.0       52300.0       52600.0  52080.0   \n",
            "69  2024-11-07 04:20:08   BankNifty    51800.0    51600.0       52300.0       52600.0  52080.0   \n",
            "70  2024-11-07 02:44:17       Nifty        NaN        NaN           NaN           NaN     24.0   \n",
            "71  2024-11-06 08:35:24   BankNifty    52200.0    52000.0       52600.0       52800.0  52330.0   \n",
            "72  2024-11-06 08:29:33       Nifty    24400.0    24355.0       24540.0       24600.0  24540.0   \n",
            "73  2024-11-06 08:29:33     Nifty50    24400.0    24355.0       24540.0       24600.0  24540.0   \n",
            "74  2024-11-06 03:05:03       Nifty        NaN        NaN           NaN           NaN     24.0   \n",
            "75  2024-11-05 05:06:04       Nifty    23950.0    23900.0       24050.0       24100.0  23980.0   \n",
            "76  2024-11-05 05:06:04     Nifty50    23950.0    23900.0       24050.0       24100.0  23980.0   \n",
            "77  2024-11-05 04:53:53   BankNifty    51050.0    50900.0       51400.0       51600.0  51200.0   \n",
            "78  2024-11-05 02:56:59       Nifty        NaN        NaN           NaN           NaN     23.0   \n",
            "79  2024-11-04 05:24:58       Nifty    23880.0    23800.0       23960.0       24000.0  23915.0   \n",
            "80  2024-11-04 05:24:58     Nifty50    23880.0    23800.0       23960.0       24000.0  23915.0   \n",
            "81  2024-11-04 05:20:33   BankNifty    51150.0    50900.0       51400.0       51600.0  51280.0   \n",
            "82  2024-11-04 02:54:51       Nifty        NaN        NaN           NaN           NaN     24.0   \n",
            "83  2024-10-31 03:00:39       Nifty        NaN        NaN           NaN           NaN     24.0   \n",
            "84  2024-10-30 02:49:41       Nifty        NaN        NaN           NaN           NaN     24.0   \n",
            "85  2024-10-29 02:40:37       Nifty        NaN        NaN           NaN           NaN     24.0   \n",
            "\n",
            "    Pattern  \n",
            "0      None  \n",
            "1      None  \n",
            "2   Bullish  \n",
            "3      None  \n",
            "4      None  \n",
            "5      None  \n",
            "6      None  \n",
            "7   Bearish  \n",
            "8      None  \n",
            "9      None  \n",
            "10     None  \n",
            "11     None  \n",
            "12  Bullish  \n",
            "13     None  \n",
            "14     None  \n",
            "15     None  \n",
            "16     None  \n",
            "17  Bearish  \n",
            "18     None  \n",
            "19     None  \n",
            "20     None  \n",
            "21  Bearish  \n",
            "22     None  \n",
            "23     None  \n",
            "24     None  \n",
            "25     None  \n",
            "26  Bullish  \n",
            "27  Bullish  \n",
            "28     None  \n",
            "29     None  \n",
            "30     None  \n",
            "31     None  \n",
            "32  Bearish  \n",
            "33     None  \n",
            "34     None  \n",
            "35     None  \n",
            "36     None  \n",
            "37     Doji  \n",
            "38     None  \n",
            "39     None  \n",
            "40     None  \n",
            "41     None  \n",
            "42  Bearish  \n",
            "43     None  \n",
            "44     None  \n",
            "45     None  \n",
            "46  Bearish  \n",
            "47  Bearish  \n",
            "48     None  \n",
            "49     None  \n",
            "50     None  \n",
            "51  Bearish  \n",
            "52     None  \n",
            "53     None  \n",
            "54     None  \n",
            "55     None  \n",
            "56  Bullish  \n",
            "57     None  \n",
            "58     None  \n",
            "59     None  \n",
            "60     None  \n",
            "61  Bearish  \n",
            "62     None  \n",
            "63     None  \n",
            "64     None  \n",
            "65  Bearish  \n",
            "66     None  \n",
            "67     None  \n",
            "68     None  \n",
            "69     None  \n",
            "70  Bullish  \n",
            "71     None  \n",
            "72     None  \n",
            "73     None  \n",
            "74  Bullish  \n",
            "75     None  \n",
            "76     None  \n",
            "77     None  \n",
            "78  Bearish  \n",
            "79     None  \n",
            "80     None  \n",
            "81     None  \n",
            "82  Bullish  \n",
            "83  Bearish  \n",
            "84  Bullish  \n",
            "85  Bullish  \n"
          ]
        }
      ]
    },
    {
      "cell_type": "code",
      "source": [
        "# Mount Google Drive\n",
        "from google.colab import drive\n",
        "drive.mount('/content/drive')\n",
        "\n",
        "# Save the filtered data to Google Drive as CSV\n",
        "csv_filename = '/content/drive/MyDrive/intern5_stock_data.csv'\n",
        "df.to_csv(csv_filename, index=False)\n",
        "\n",
        "print(f'File saved to Google Drive: {csv_filename}')"
      ],
      "metadata": {
        "colab": {
          "base_uri": "https://localhost:8080/"
        },
        "id": "4dzNEZl3zb0C",
        "outputId": "5c5103c4-21ac-4b9a-8c23-dd56e0cf0242"
      },
      "execution_count": 82,
      "outputs": [
        {
          "output_type": "stream",
          "name": "stdout",
          "text": [
            "Mounted at /content/drive\n",
            "File saved to Google Drive: /content/drive/MyDrive/intern5_stock_data.csv\n"
          ]
        }
      ]
    },
    {
      "cell_type": "code",
      "source": [
        "df = pd.DataFrame(data, columns=['message'])"
      ],
      "metadata": {
        "id": "zlACl8CIy6fS"
      },
      "execution_count": 30,
      "outputs": []
    },
    {
      "cell_type": "code",
      "source": [
        "import re\n",
        "\n",
        "# Remove unwanted characters and links\n",
        "df['message'] = df['message'].apply(lambda x: re.sub(r'http\\S+|www\\S+|https\\S+|[^a-zA-Z0-9\\s]', '', x))\n",
        "df = df.dropna().reset_index(drop=True)\n"
      ],
      "metadata": {
        "id": "nEyDzhTVy9kE"
      },
      "execution_count": 31,
      "outputs": []
    },
    {
      "cell_type": "code",
      "source": [
        "df = df.dropna()"
      ],
      "metadata": {
        "id": "NfOE_1mwzC0g"
      },
      "execution_count": 32,
      "outputs": []
    },
    {
      "cell_type": "code",
      "source": [
        "from google.colab import drive\n",
        "drive.mount('/content/drive')\n",
        "df.to_csv('/content/drive/MyDrive/intern2_stock_data.csv', index=False)\n"
      ],
      "metadata": {
        "colab": {
          "base_uri": "https://localhost:8080/"
        },
        "id": "QlbJ6mg_zMEd",
        "outputId": "f9966e2f-7930-49b8-9af9-2da8b571f33e"
      },
      "execution_count": 33,
      "outputs": [
        {
          "output_type": "stream",
          "name": "stdout",
          "text": [
            "Drive already mounted at /content/drive; to attempt to forcibly remount, call drive.mount(\"/content/drive\", force_remount=True).\n"
          ]
        }
      ]
    }
  ]
}